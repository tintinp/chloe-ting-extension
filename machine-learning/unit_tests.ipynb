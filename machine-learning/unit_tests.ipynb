{
 "metadata": {
  "language_info": {
   "codemirror_mode": {
    "name": "ipython",
    "version": 3
   },
   "file_extension": ".py",
   "mimetype": "text/x-python",
   "name": "python",
   "nbconvert_exporter": "python",
   "pygments_lexer": "ipython3",
   "version": 3
  },
  "orig_nbformat": 2,
  "kernelspec": {
   "name": "python_defaultSpec_1596180394906",
   "display_name": "Python 3.7.6 64-bit ('venv': venv)"
  }
 },
 "nbformat": 4,
 "nbformat_minor": 2,
 "cells": [
  {
   "cell_type": "markdown",
   "metadata": {},
   "source": [
    "## Feature normalization"
   ]
  },
  {
   "cell_type": "code",
   "execution_count": 25,
   "metadata": {
    "tags": []
   },
   "outputs": [
    {
     "output_type": "stream",
     "name": "stdout",
     "text": "mean: 2\nvarince: 0.666666687\ntf.Tensor([-1.2247448  0.         1.2247448], shape=(3,), dtype=float32) tf.Tensor([1 0 0], shape=(3,), dtype=int64)\nmean: 3\nvarince: 0.666666687\ntf.Tensor([-1.2247448  0.         1.2247448], shape=(3,), dtype=float32) tf.Tensor([0 1 0], shape=(3,), dtype=int64)\nmean: 4\nvarince: 0.666666687\ntf.Tensor([-1.2247448  0.         1.2247448], shape=(3,), dtype=float32) tf.Tensor([0 0 1], shape=(3,), dtype=int64)\n"
    }
   ],
   "source": [
    "import tensorflow as tf\n",
    "from tensorflow import keras\n",
    "import numpy as np\n",
    "\n",
    "def preprocess(x, y):\n",
    "    x = tf.cast(x, tf.float32) / 255.0\n",
    "    y = tf.cast(y, tf.int64)\n",
    "    return x, y\n",
    "\n",
    "\n",
    "def create_dataset(xs, ys, n_classes=10):\n",
    "    ys = tf.one_hot(ys, depth=n_classes)\n",
    "    return tf.data.Dataset.from_tensor_slices((xs, ys)).map(preprocess).shuffle(len(ys)).batch(128)\n",
    "    \n",
    "    \n",
    "def normalize(x, axes=[0], epsilon=1e-8):\n",
    "    mean, variance = tf.nn.moments(x, axes=axes)\n",
    "    x_normed = (x - mean) / tf.sqrt(variance + epsilon) # epsilon to avoid dividing by zero\n",
    "    tf.print('mean:', mean)\n",
    "    tf.print('varince:', variance)\n",
    "    return x_normed\n",
    "\n",
    "\n",
    "def preprocess(x, y):\n",
    "    x = tf.cast(x, tf.float32)\n",
    "    x_normed = normalize(x)\n",
    "    y = tf.cast(y, tf.int64)\n",
    "    return x_normed, y\n",
    "\n",
    "\n",
    "def create_dataset(xs, ys, n_classes=3):\n",
    "    ys = tf.one_hot(ys, depth=n_classes)\n",
    "    # return tf.data.Dataset.from_tensor_slices((xs, ys)).map(preprocess).shuffle(len(ys)).batch(128)\n",
    "    return tf.data.Dataset.from_tensor_slices((xs, ys)).map(preprocess)\n",
    "\n",
    "\n",
    "x = tf.constant([[1,2,3],[2,3,4],[3,4,5]])\n",
    "y = tf.constant([0,1,2])\n",
    "\n",
    "train_dataset = create_dataset(x, y)\n",
    "\n",
    "for x, y in train_dataset:\n",
    "    print(x, y)"
   ]
  },
  {
   "cell_type": "code",
   "execution_count": null,
   "metadata": {},
   "outputs": [],
   "source": []
  }
 ]
}