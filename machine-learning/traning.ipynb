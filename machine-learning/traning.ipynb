{
 "metadata": {
  "language_info": {
   "codemirror_mode": {
    "name": "ipython",
    "version": 3
   },
   "file_extension": ".py",
   "mimetype": "text/x-python",
   "name": "python",
   "nbconvert_exporter": "python",
   "pygments_lexer": "ipython3",
   "version": 3
  },
  "orig_nbformat": 2,
  "kernelspec": {
   "name": "python_defaultSpec_1596175883831",
   "display_name": "Python 3.7.6 64-bit ('venv': venv)"
  }
 },
 "nbformat": 4,
 "nbformat_minor": 2,
 "cells": [
  {
   "cell_type": "markdown",
   "metadata": {},
   "source": [
    "# Neural Network Traning"
   ]
  },
  {
   "cell_type": "code",
   "execution_count": 59,
   "metadata": {
    "tags": []
   },
   "outputs": [
    {
     "output_type": "stream",
     "name": "stdout",
     "text": "---------------------------------------------------------------------------\nTF: 2.2.0\n---------------------------------------------------------------------------\n"
    }
   ],
   "source": [
    "import tensorflow as tf\n",
    "from tensorflow import keras\n",
    "import numpy as np\n",
    "import pandas as pd\n",
    "from CONSTANTS import ML\n",
    "\n",
    "print('---------------------------------------------------------------------------')\n",
    "print('TF: {}'.format(tf.__version__))\n",
    "print('---------------------------------------------------------------------------')\n",
    "\n",
    "########################################################################\n",
    "# Change file path HERE\n",
    "########################################################################\n",
    "csv_filepath = './data/2020-07-31_04-20-48.csv'\n",
    "csv_filepath2 = './data/2020-07-26_06-35-07-unfiltered.csv'\n"
   ]
  },
  {
   "cell_type": "markdown",
   "metadata": {},
   "source": [
    "# Compiling dataset features\n",
    "\n",
    "Total number of features = 19\n",
    "\n",
    "### Power Spectrum Bins\n",
    "\n",
    "1, 2, 3, 4, 10, 11, 22, 23, 43, 44, 45, 109, 110, 125, 126\n",
    "\n",
    "### MFCC Bins\n",
    "\n",
    "1, 10\n",
    "\n",
    "### Spectral Flatness\n",
    "\n",
    "Spectral flatness value and delta spectral flatness"
   ]
  },
  {
   "cell_type": "code",
   "execution_count": 60,
   "metadata": {
    "tags": []
   },
   "outputs": [],
   "source": [
    "def extractFeatures(df):\n",
    "    datasets = np.empty([df.shape[0], ML['NUMBER_OF_FEATURES']])\n",
    "\n",
    "    for index, row in df.iterrows():\n",
    "        sample = np.array([\n",
    "            row['powerSpectrum_1'],\n",
    "            row['powerSpectrum_2'],\n",
    "            row['powerSpectrum_3'],\n",
    "            row['powerSpectrum_4'],\n",
    "            row['powerSpectrum_10'],\n",
    "            row['powerSpectrum_11'],\n",
    "            row['powerSpectrum_22'],\n",
    "            row['powerSpectrum_23'],\n",
    "            row['powerSpectrum_43'],\n",
    "            row['powerSpectrum_44'],\n",
    "            row['powerSpectrum_45'],\n",
    "            row['powerSpectrum_109'],\n",
    "            row['powerSpectrum_110'],\n",
    "            row['powerSpectrum_125'],\n",
    "            row['powerSpectrum_126'],\n",
    "            row['mfcc_1'],\n",
    "            row['mfcc_10'],\n",
    "            row['spectralFlatness'],\n",
    "            row['delta_spectralFlatness']\n",
    "        ])\n",
    "        datasets[index] = sample\n",
    "    \n",
    "    return datasets"
   ]
  },
  {
   "cell_type": "markdown",
   "metadata": {},
   "source": [
    "# Data preprocessing\n",
    "\n",
    "- Create one hot for the three classes we (Chloe, Beep, and Music)\n",
    "- Feature normalization"
   ]
  },
  {
   "cell_type": "code",
   "execution_count": 61,
   "metadata": {
    "tags": []
   },
   "outputs": [],
   "source": [
    "def standardize(x, axes=[0], epsilon=1e-8):\n",
    "    mean, variance = tf.nn.moments(x, axes=axes)\n",
    "    x_normed = (x - mean) / tf.sqrt(variance + epsilon) # epsilon to avoid dividing by zero\n",
    "    return x_normed\n",
    "\n",
    "\n",
    "def preprocess(x, y):\n",
    "    x = tf.cast(x, tf.float32)\n",
    "    y = tf.cast(y, tf.int64)\n",
    "    return x, y\n",
    "\n",
    "\n",
    "def preprocess_standardized(x, y):\n",
    "    x = tf.cast(x, tf.float32)\n",
    "    x_normed = standardize(x)\n",
    "    y = tf.cast(y, tf.int64)\n",
    "    return x_normed, y\n",
    "\n",
    "\n",
    "def create_dataset(xs, ys, n_classes=ML['N_CLASSES']):\n",
    "    ys = tf.one_hot(ys, depth=n_classes)\n",
    "    return tf.data.Dataset.from_tensor_slices((xs, ys)).map(preprocess).shuffle(len(ys)).batch(128)\n",
    "\n",
    "\n",
    "def create_dataset_standardized(xs, ys, n_classes=ML['N_CLASSES']):\n",
    "    ys = tf.one_hot(ys, depth=n_classes)\n",
    "    return tf.data.Dataset.from_tensor_slices((xs, ys)).map(preprocess_standardized).shuffle(len(ys)).batch(128)"
   ]
  },
  {
   "cell_type": "markdown",
   "metadata": {},
   "source": [
    "# Training"
   ]
  },
  {
   "cell_type": "code",
   "execution_count": 62,
   "metadata": {
    "tags": []
   },
   "outputs": [
    {
     "output_type": "stream",
     "name": "stdout",
     "text": "Epoch 1/10\n500/500 [==============================] - 2s 5ms/step - loss: 0.6593 - accuracy: 0.8934 - val_loss: 0.6277 - val_accuracy: 0.9219\nEpoch 2/10\n500/500 [==============================] - 2s 5ms/step - loss: 0.6439 - accuracy: 0.9084 - val_loss: 0.6201 - val_accuracy: 0.9297\nEpoch 3/10\n500/500 [==============================] - 2s 4ms/step - loss: 0.6411 - accuracy: 0.9104 - val_loss: 0.6110 - val_accuracy: 0.9414\nEpoch 4/10\n500/500 [==============================] - 2s 4ms/step - loss: 0.6396 - accuracy: 0.9119 - val_loss: 0.6281 - val_accuracy: 0.9258\nEpoch 5/10\n500/500 [==============================] - 2s 4ms/step - loss: 0.6385 - accuracy: 0.9129 - val_loss: 0.6267 - val_accuracy: 0.9258\nEpoch 6/10\n500/500 [==============================] - 2s 4ms/step - loss: 0.6385 - accuracy: 0.9129 - val_loss: 0.6236 - val_accuracy: 0.9297\nEpoch 7/10\n500/500 [==============================] - 2s 4ms/step - loss: 0.6386 - accuracy: 0.9129 - val_loss: 0.6162 - val_accuracy: 0.9336\nEpoch 8/10\n500/500 [==============================] - 2s 4ms/step - loss: 0.6385 - accuracy: 0.9129 - val_loss: 0.6321 - val_accuracy: 0.9180\nEpoch 9/10\n500/500 [==============================] - 2s 4ms/step - loss: 0.6386 - accuracy: 0.9129 - val_loss: 0.6148 - val_accuracy: 0.9375\nEpoch 10/10\n500/500 [==============================] - 2s 4ms/step - loss: 0.6385 - accuracy: 0.9129 - val_loss: 0.5983 - val_accuracy: 0.9531\n"
    }
   ],
   "source": [
    "train_df = pd.read_csv(csv_filepath, sep=',', header=0)\n",
    "validation_df = pd.read_csv(csv_filepath2, sep=',', header=0)\n",
    "\n",
    "train_classes = train_df['class'].to_numpy()\n",
    "validation_classes = validation_df['class'].to_numpy()\n",
    "\n",
    "\n",
    "train_extract = extractFeatures(train_df)\n",
    "validation_extract = extractFeatures(validation_df)\n",
    "\n",
    "train_dataset = create_dataset(train_extract, train_classes)\n",
    "validation_dataset = create_dataset(validation_extract, validation_classes)\n",
    "\n",
    "model = keras.Sequential([\n",
    "    keras.layers.Dense(units=256, activation='relu'),\n",
    "    keras.layers.Dense(units=192, activation='relu'),\n",
    "    keras.layers.Dense(units=30, activation='relu'),\n",
    "    keras.layers.Dense(units=ML['N_CLASSES'], activation='softmax')\n",
    "])\n",
    "\n",
    "model.compile(optimizer='adam', \n",
    "              loss=tf.losses.CategoricalCrossentropy(from_logits=True),\n",
    "              metrics=['accuracy'])\n",
    "\n",
    "history = model.fit(\n",
    "    train_dataset.repeat(), \n",
    "    epochs=10, \n",
    "    steps_per_epoch=500,\n",
    "    validation_data=validation_dataset.repeat(), \n",
    "    validation_steps=2\n",
    ")"
   ]
  },
  {
   "cell_type": "code",
   "execution_count": null,
   "metadata": {},
   "outputs": [],
   "source": []
  }
 ]
}