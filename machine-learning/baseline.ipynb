{
 "metadata": {
  "language_info": {
   "codemirror_mode": {
    "name": "ipython",
    "version": 3
   },
   "file_extension": ".py",
   "mimetype": "text/x-python",
   "name": "python",
   "nbconvert_exporter": "python",
   "pygments_lexer": "ipython3",
   "version": 3
  },
  "orig_nbformat": 2,
  "kernelspec": {
   "name": "python_defaultSpec_1596172674061",
   "display_name": "Python 3.7.6 64-bit ('venv': venv)"
  }
 },
 "nbformat": 4,
 "nbformat_minor": 2,
 "cells": [
  {
   "cell_type": "code",
   "execution_count": 57,
   "metadata": {
    "tags": []
   },
   "outputs": [],
   "source": [
    "import tensorflow as tf\n",
    "from tensorflow import keras\n",
    "import numpy as np\n",
    "\n",
    "print('TF: {}'.format(tf.__version__))\n",
    "\n",
    "(x_train, y_train), (x_val, y_val) = keras.datasets.fashion_mnist.load_data()\n",
    "\n",
    "def preprocess(x, y):\n",
    "    x = tf.cast(x, tf.float32) / 255.0\n",
    "    y = tf.cast(y, tf.int64)\n",
    "    return x, y\n",
    "\n",
    "def create_dataset(xs, ys, n_classes=10):\n",
    "    ys = tf.one_hot(ys, depth=n_classes)\n",
    "    return tf.data.Dataset.from_tensor_slices((xs, ys)).map(preprocess).shuffle(len(ys)).batch(128)"
   ]
  },
  {
   "cell_type": "code",
   "execution_count": 56,
   "metadata": {
    "tags": []
   },
   "outputs": [],
   "source": [
    "train_dataset = create_dataset(x_train, y_train)\n",
    "val_dataset = create_dataset(x_val, y_val)"
   ]
  },
  {
   "cell_type": "code",
   "execution_count": 12,
   "metadata": {},
   "outputs": [],
   "source": [
    "model = keras.Sequential([\n",
    "    keras.layers.Reshape(target_shape=(28 * 28,), input_shape=(28, 28)),\n",
    "    keras.layers.Dense(units=256, activation='relu'),\n",
    "    keras.layers.Dense(units=192, activation='relu'),\n",
    "    keras.layers.Dense(units=128, activation='relu'),\n",
    "    keras.layers.Dense(units=10, activation='softmax')\n",
    "])"
   ]
  },
  {
   "cell_type": "code",
   "execution_count": 13,
   "metadata": {
    "tags": []
   },
   "outputs": [
    {
     "output_type": "stream",
     "name": "stdout",
     "text": "Epoch 1/10\n500/500 [==============================] - 3s 7ms/step - loss: 1.6916 - accuracy: 0.7739 - val_loss: 1.6533 - val_accuracy: 0.8203\nEpoch 2/10\n500/500 [==============================] - 3s 6ms/step - loss: 1.6254 - accuracy: 0.8360 - val_loss: 1.5586 - val_accuracy: 0.9102\nEpoch 3/10\n500/500 [==============================] - 3s 6ms/step - loss: 1.6151 - accuracy: 0.8461 - val_loss: 1.6088 - val_accuracy: 0.8516\nEpoch 4/10\n500/500 [==============================] - 3s 6ms/step - loss: 1.6064 - accuracy: 0.8542 - val_loss: 1.6286 - val_accuracy: 0.8281\nEpoch 5/10\n500/500 [==============================] - 3s 6ms/step - loss: 1.5983 - accuracy: 0.8624 - val_loss: 1.6225 - val_accuracy: 0.8398\nEpoch 6/10\n500/500 [==============================] - 3s 6ms/step - loss: 1.5941 - accuracy: 0.8667 - val_loss: 1.6545 - val_accuracy: 0.8047\nEpoch 7/10\n500/500 [==============================] - 3s 6ms/step - loss: 1.5942 - accuracy: 0.8665 - val_loss: 1.5719 - val_accuracy: 0.8867\nEpoch 8/10\n500/500 [==============================] - 3s 6ms/step - loss: 1.5914 - accuracy: 0.8695 - val_loss: 1.5959 - val_accuracy: 0.8633\nEpoch 9/10\n500/500 [==============================] - 3s 6ms/step - loss: 1.5879 - accuracy: 0.8733 - val_loss: 1.5856 - val_accuracy: 0.8750\nEpoch 10/10\n500/500 [==============================] - 3s 6ms/step - loss: 1.5861 - accuracy: 0.8748 - val_loss: 1.5857 - val_accuracy: 0.8750\n"
    }
   ],
   "source": [
    "model.compile(optimizer='adam', \n",
    "              loss=tf.losses.CategoricalCrossentropy(from_logits=True),\n",
    "              metrics=['accuracy'])\n",
    "\n",
    "history = model.fit(\n",
    "    train_dataset.repeat(), \n",
    "    epochs=10, \n",
    "    steps_per_epoch=500,\n",
    "    validation_data=val_dataset.repeat(), \n",
    "    validation_steps=2\n",
    ")"
   ]
  },
  {
   "cell_type": "code",
   "execution_count": 58,
   "metadata": {},
   "outputs": [
    {
     "output_type": "execute_result",
     "data": {
      "text/plain": "9"
     },
     "metadata": {},
     "execution_count": 58
    }
   ],
   "source": [
    "predictions = model.predict(val_dataset)\n",
    "np.argmax(predictions[0])"
   ]
  },
  {
   "cell_type": "code",
   "execution_count": null,
   "metadata": {},
   "outputs": [],
   "source": []
  }
 ]
}